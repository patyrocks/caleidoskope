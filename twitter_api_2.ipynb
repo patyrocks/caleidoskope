{
 "cells": [
  {
   "cell_type": "code",
   "execution_count": null,
   "metadata": {
    "scrolled": true
   },
   "outputs": [],
   "source": [
    "pip install tweepy"
   ]
  },
  {
   "cell_type": "code",
   "execution_count": 169,
   "metadata": {},
   "outputs": [],
   "source": [
    "import tweepy\n",
    "import json"
   ]
  },
  {
   "cell_type": "code",
   "execution_count": 170,
   "metadata": {},
   "outputs": [],
   "source": [
    "with open(\"twitter_credentials.json\", \"r\") as file:\n",
    "    credentials = json.load(file)"
   ]
  },
  {
   "cell_type": "code",
   "execution_count": 174,
   "metadata": {},
   "outputs": [],
   "source": [
    "authenticate = tweepy.OAuthHandler(credentials['api_key'], credentials['api_key_secret'])\n",
    "authenticate.set_access_token(credentials['access_token'], credentials['access_token_secret'])"
   ]
  },
  {
   "cell_type": "code",
   "execution_count": 175,
   "metadata": {},
   "outputs": [],
   "source": [
    "twitter = tweepy.API(authenticate)"
   ]
  },
  {
   "cell_type": "code",
   "execution_count": null,
   "metadata": {},
   "outputs": [],
   "source": [
    "# link to access all twitter attributes: \n",
    "# https://developer.twitter.com/en/docs/twitter-api/v1/data-dictionary/overview/tweet-object\n",
    "\n",
    "#link to access all available metrics (counts). Retrieve from every tweet:\n",
    "#https://developer.twitter.com/en/docs/twitter-api/metrics\n",
    "\n",
    "# text and tweets analysis\n",
    "# https://marcobonzanini.com/2015/03/02/mining-twitter-data-with-python-part-1/comment-page-1/"
   ]
  },
  {
   "cell_type": "code",
   "execution_count": 177,
   "metadata": {},
   "outputs": [],
   "source": [
    "from datetime import datetime"
   ]
  },
  {
   "cell_type": "code",
   "execution_count": 178,
   "metadata": {},
   "outputs": [],
   "source": [
    "def all_chester_tweets():\n",
    "    \n",
    "#   make a list of every tweet item:\n",
    "    tweet_text_list = []\n",
    "    tweet_created_date_list = []\n",
    "    tweet_device_list = []\n",
    "    tweet_in_reply_to_list = []\n",
    "    tweet_coordinates_list = []\n",
    "    tweet_entities_list = []\n",
    "    tweet_id_list = []\n",
    "    tweet_lang_list = []\n",
    "    tweet_retweet_count_list = []\n",
    "    tweet_reply_to_screen_name_list = []\n",
    "    tweet_reply_to_str_id_list = []\n",
    "    \n",
    "#   make a list of dicts, where every dict is a tweet:\n",
    "    full_tweet_list = []\n",
    "    \n",
    "#   extract from Twitter API:\n",
    "    for tweet in tweepy.Cursor(twitter.user_timeline, screen_name='chesterbe', tweet_mode=\"extended\").items():\n",
    "\n",
    "        tweet_text = tweet.full_text\n",
    "        tweet_text_list.append(tweet_text)\n",
    "        \n",
    "        tweet_at_raw = tweet.created_at\n",
    "        tweet_at = tweet_at_raw.strftime('%d-%m-%Y, %H:%M:%S')\n",
    "        tweet_created_date_list.append(tweet_at)\n",
    "        \n",
    "        tweet_device = tweet.source\n",
    "        tweet_device_list.append(tweet_device)\n",
    "        \n",
    "        tweet_reply_to_screen_name = str(tweet.in_reply_to_screen_name)\n",
    "        tweet_reply_to_screen_name_list.append(tweet_reply_to_screen_name)\n",
    "        \n",
    "        tweet_reply_to_str_id = tweet.in_reply_to_status_id_str\n",
    "        tweet_reply_to_str_id_list.append(tweet_reply_to_str_id)\n",
    "        \n",
    "        tweet_coordinates = str(tweet.coordinates)\n",
    "        tweet_coordinates_list.append(tweet_coordinates)\n",
    "        \n",
    "        tweet_entities = list(tweet.entities)\n",
    "        tweet_entities_list.append(tweet_entities)\n",
    "        \n",
    "        tweet_id = tweet.id_str\n",
    "        tweet_id_list.append(tweet_id)\n",
    "        \n",
    "        tweet_language = tweet.lang\n",
    "        tweet_lang_list.append(tweet_language)\n",
    "        \n",
    "        tweet_retweet_count = tweet.retweet_count\n",
    "        tweet_retweet_count_list.append(tweet_retweet_count)\n",
    "        \n",
    "        for text,date,device,reply_to_screen_name,reply_to_id,coordinates,entities,tweet_id,lang,retweet in zip(tweet_text_list,tweet_created_date_list,tweet_device_list,tweet_reply_to_screen_name_list,tweet_reply_to_str_id_list,tweet_coordinates_list,tweet_entities_list,tweet_id_list,tweet_lang_list,tweet_retweet_count_list):\n",
    "            tweet_dict = {'tweet_text': text,'created_at': date,'tweet_device': device,'in_reply_to_name': reply_to_screen_name,'in_reply_to_id': reply_to_id,'coordinates': coordinates,'tweet_entities': entities,'tweet_id': tweet_id,'tweet_lang': lang, 'tweet_retweet_count': retweet}\n",
    "            full_tweet_list.append(tweet_dict)\n",
    "            \n",
    "    return full_tweet_list"
   ]
  },
  {
   "cell_type": "code",
   "execution_count": 211,
   "metadata": {},
   "outputs": [],
   "source": [
    "def test():\n",
    "    all_statuses = []\n",
    "    for status in tweepy.Cursor(twitter.user_timeline,screen_name='chesterbe', tweet_mode=\"extended\").items():\n",
    "        all_statuses.append(status)\n",
    "    \n",
    "    return all_statuses"
   ]
  },
  {
   "cell_type": "code",
   "execution_count": null,
   "metadata": {},
   "outputs": [],
   "source": [
    "test()"
   ]
  },
  {
   "cell_type": "code",
   "execution_count": null,
   "metadata": {},
   "outputs": [],
   "source": [
    "all_chester_tweets()"
   ]
  },
  {
   "cell_type": "code",
   "execution_count": 180,
   "metadata": {},
   "outputs": [],
   "source": [
    "chester_tweets = all_chester_tweets()"
   ]
  },
  {
   "cell_type": "code",
   "execution_count": 164,
   "metadata": {},
   "outputs": [],
   "source": [
    "import pandas as pd"
   ]
  },
  {
   "cell_type": "code",
   "execution_count": 181,
   "metadata": {},
   "outputs": [],
   "source": [
    "df = pd.DataFrame(chester_tweets)"
   ]
  },
  {
   "cell_type": "code",
   "execution_count": null,
   "metadata": {},
   "outputs": [],
   "source": [
    "df"
   ]
  },
  {
   "cell_type": "code",
   "execution_count": null,
   "metadata": {},
   "outputs": [],
   "source": []
  }
 ],
 "metadata": {
  "kernelspec": {
   "display_name": "Python 3",
   "language": "python",
   "name": "python3"
  },
  "language_info": {
   "codemirror_mode": {
    "name": "ipython",
    "version": 3
   },
   "file_extension": ".py",
   "mimetype": "text/x-python",
   "name": "python",
   "nbconvert_exporter": "python",
   "pygments_lexer": "ipython3",
   "version": "3.8.3"
  }
 },
 "nbformat": 4,
 "nbformat_minor": 4
}
